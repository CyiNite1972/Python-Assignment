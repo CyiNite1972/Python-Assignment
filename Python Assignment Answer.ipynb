{
 "cells": [
  {
   "cell_type": "code",
   "execution_count": 171,
   "id": "7785fc50",
   "metadata": {},
   "outputs": [],
   "source": [
    "import pandas as pd"
   ]
  },
  {
   "cell_type": "code",
   "execution_count": 172,
   "id": "0e9f00dd",
   "metadata": {},
   "outputs": [],
   "source": [
    "inp1 = pd.read_excel('Python Assignment.xlsx',sheet_name='(Input) User IDs', usecols=\"D:G\",skiprows=10,skipfooter=42)"
   ]
  },
  {
   "cell_type": "code",
   "execution_count": 173,
   "id": "26d1fe77",
   "metadata": {},
   "outputs": [],
   "source": [
    "inp2 = pd.read_excel('Python Assignment.xlsx',sheet_name='(Input) Rigorbuilder RAW', usecols=\"C:G\",skiprows=7)"
   ]
  },
  {
   "cell_type": "code",
   "execution_count": 176,
   "id": "f46f7f15",
   "metadata": {},
   "outputs": [],
   "source": [
    "out2 = inp2.copy()"
   ]
  },
  {
   "cell_type": "code",
   "execution_count": 177,
   "id": "e3489b0e",
   "metadata": {},
   "outputs": [],
   "source": [
    "out2.rename(columns = {'S No':'Rank','total_statements':'No. of Statements','total_reasons':'No. of Reason','name':'Name','uid':'UID'},inplace=True)"
   ]
  },
  {
   "cell_type": "code",
   "execution_count": 179,
   "id": "016ecc29",
   "metadata": {},
   "outputs": [],
   "source": [
    "out2['Total Statements']=out2[['No. of Statements','No. of Reason']].sum(axis=1)"
   ]
  },
  {
   "cell_type": "code",
   "execution_count": 181,
   "id": "6a670722",
   "metadata": {},
   "outputs": [],
   "source": [
    "out2.sort_values(by=['Total Statements'],ascending=[False],inplace=True)"
   ]
  },
  {
   "cell_type": "code",
   "execution_count": 182,
   "id": "360dff3c",
   "metadata": {},
   "outputs": [],
   "source": [
    "del out2['Total Statements']"
   ]
  },
  {
   "cell_type": "code",
   "execution_count": 184,
   "id": "a0117251",
   "metadata": {},
   "outputs": [],
   "source": [
    "out2.reset_index(inplace=True)"
   ]
  },
  {
   "cell_type": "code",
   "execution_count": 185,
   "id": "199b1f77",
   "metadata": {},
   "outputs": [],
   "source": [
    "del out2['index']"
   ]
  },
  {
   "cell_type": "code",
   "execution_count": 186,
   "id": "72fed7ac",
   "metadata": {},
   "outputs": [],
   "source": [
    "out2.index += 1"
   ]
  },
  {
   "cell_type": "code",
   "execution_count": 188,
   "id": "3962c631",
   "metadata": {},
   "outputs": [],
   "source": [
    "out2['Rank'] = out2.index"
   ]
  },
  {
   "cell_type": "code",
   "execution_count": 189,
   "id": "5247b9d1",
   "metadata": {},
   "outputs": [
    {
     "data": {
      "text/html": [
       "<div>\n",
       "<style scoped>\n",
       "    .dataframe tbody tr th:only-of-type {\n",
       "        vertical-align: middle;\n",
       "    }\n",
       "\n",
       "    .dataframe tbody tr th {\n",
       "        vertical-align: top;\n",
       "    }\n",
       "\n",
       "    .dataframe thead th {\n",
       "        text-align: right;\n",
       "    }\n",
       "</style>\n",
       "<table border=\"1\" class=\"dataframe\">\n",
       "  <thead>\n",
       "    <tr style=\"text-align: right;\">\n",
       "      <th></th>\n",
       "      <th>Rank</th>\n",
       "      <th>Name</th>\n",
       "      <th>UID</th>\n",
       "      <th>No. of Statements</th>\n",
       "      <th>No. of Reason</th>\n",
       "    </tr>\n",
       "  </thead>\n",
       "  <tbody>\n",
       "    <tr>\n",
       "      <th>1</th>\n",
       "      <td>1</td>\n",
       "      <td>Ronak 0</td>\n",
       "      <td>302</td>\n",
       "      <td>16</td>\n",
       "      <td>19</td>\n",
       "    </tr>\n",
       "    <tr>\n",
       "      <th>2</th>\n",
       "      <td>2</td>\n",
       "      <td>Soumita M</td>\n",
       "      <td>280</td>\n",
       "      <td>13</td>\n",
       "      <td>21</td>\n",
       "    </tr>\n",
       "    <tr>\n",
       "      <th>3</th>\n",
       "      <td>3</td>\n",
       "      <td>Subhangi 0</td>\n",
       "      <td>75</td>\n",
       "      <td>13</td>\n",
       "      <td>16</td>\n",
       "    </tr>\n",
       "    <tr>\n",
       "      <th>4</th>\n",
       "      <td>4</td>\n",
       "      <td>Merwin</td>\n",
       "      <td>295</td>\n",
       "      <td>13</td>\n",
       "      <td>12</td>\n",
       "    </tr>\n",
       "    <tr>\n",
       "      <th>5</th>\n",
       "      <td>5</td>\n",
       "      <td>Nitin Shane</td>\n",
       "      <td>1124</td>\n",
       "      <td>12</td>\n",
       "      <td>11</td>\n",
       "    </tr>\n",
       "    <tr>\n",
       "      <th>6</th>\n",
       "      <td>6</td>\n",
       "      <td>Ayisha</td>\n",
       "      <td>3406</td>\n",
       "      <td>11</td>\n",
       "      <td>8</td>\n",
       "    </tr>\n",
       "    <tr>\n",
       "      <th>7</th>\n",
       "      <td>7</td>\n",
       "      <td>imshawan</td>\n",
       "      <td>71</td>\n",
       "      <td>9</td>\n",
       "      <td>9</td>\n",
       "    </tr>\n",
       "    <tr>\n",
       "      <th>8</th>\n",
       "      <td>8</td>\n",
       "      <td>sharath</td>\n",
       "      <td>3367</td>\n",
       "      <td>8</td>\n",
       "      <td>8</td>\n",
       "    </tr>\n",
       "    <tr>\n",
       "      <th>9</th>\n",
       "      <td>9</td>\n",
       "      <td>Saurabh</td>\n",
       "      <td>271</td>\n",
       "      <td>6</td>\n",
       "      <td>8</td>\n",
       "    </tr>\n",
       "    <tr>\n",
       "      <th>10</th>\n",
       "      <td>10</td>\n",
       "      <td>devmenkr</td>\n",
       "      <td>360</td>\n",
       "      <td>7</td>\n",
       "      <td>7</td>\n",
       "    </tr>\n",
       "    <tr>\n",
       "      <th>11</th>\n",
       "      <td>11</td>\n",
       "      <td>Anuraj_Saini</td>\n",
       "      <td>342</td>\n",
       "      <td>7</td>\n",
       "      <td>7</td>\n",
       "    </tr>\n",
       "    <tr>\n",
       "      <th>12</th>\n",
       "      <td>12</td>\n",
       "      <td>Palash</td>\n",
       "      <td>69</td>\n",
       "      <td>6</td>\n",
       "      <td>7</td>\n",
       "    </tr>\n",
       "    <tr>\n",
       "      <th>13</th>\n",
       "      <td>13</td>\n",
       "      <td>raman</td>\n",
       "      <td>539</td>\n",
       "      <td>5</td>\n",
       "      <td>5</td>\n",
       "    </tr>\n",
       "    <tr>\n",
       "      <th>14</th>\n",
       "      <td>14</td>\n",
       "      <td>__riddhi_213_</td>\n",
       "      <td>504</td>\n",
       "      <td>2</td>\n",
       "      <td>7</td>\n",
       "    </tr>\n",
       "    <tr>\n",
       "      <th>15</th>\n",
       "      <td>15</td>\n",
       "      <td>Nishant</td>\n",
       "      <td>299</td>\n",
       "      <td>4</td>\n",
       "      <td>5</td>\n",
       "    </tr>\n",
       "    <tr>\n",
       "      <th>16</th>\n",
       "      <td>16</td>\n",
       "      <td>Rohit Dutta</td>\n",
       "      <td>266</td>\n",
       "      <td>3</td>\n",
       "      <td>3</td>\n",
       "    </tr>\n",
       "    <tr>\n",
       "      <th>17</th>\n",
       "      <td>17</td>\n",
       "      <td>darshimalde</td>\n",
       "      <td>3169</td>\n",
       "      <td>3</td>\n",
       "      <td>3</td>\n",
       "    </tr>\n",
       "    <tr>\n",
       "      <th>18</th>\n",
       "      <td>18</td>\n",
       "      <td>Amrit Malviya</td>\n",
       "      <td>336</td>\n",
       "      <td>2</td>\n",
       "      <td>4</td>\n",
       "    </tr>\n",
       "    <tr>\n",
       "      <th>19</th>\n",
       "      <td>19</td>\n",
       "      <td>Shagun</td>\n",
       "      <td>100</td>\n",
       "      <td>2</td>\n",
       "      <td>2</td>\n",
       "    </tr>\n",
       "    <tr>\n",
       "      <th>20</th>\n",
       "      <td>20</td>\n",
       "      <td>fardinkamal62</td>\n",
       "      <td>263</td>\n",
       "      <td>2</td>\n",
       "      <td>2</td>\n",
       "    </tr>\n",
       "    <tr>\n",
       "      <th>21</th>\n",
       "      <td>21</td>\n",
       "      <td>Vatsal</td>\n",
       "      <td>3408</td>\n",
       "      <td>2</td>\n",
       "      <td>2</td>\n",
       "    </tr>\n",
       "  </tbody>\n",
       "</table>\n",
       "</div>"
      ],
      "text/plain": [
       "    Rank           Name   UID  No. of Statements  No. of Reason\n",
       "1      1        Ronak 0   302                 16             19\n",
       "2      2      Soumita M   280                 13             21\n",
       "3      3     Subhangi 0    75                 13             16\n",
       "4      4         Merwin   295                 13             12\n",
       "5      5    Nitin Shane  1124                 12             11\n",
       "6      6         Ayisha  3406                 11              8\n",
       "7      7       imshawan    71                  9              9\n",
       "8      8        sharath  3367                  8              8\n",
       "9      9        Saurabh   271                  6              8\n",
       "10    10       devmenkr   360                  7              7\n",
       "11    11   Anuraj_Saini   342                  7              7\n",
       "12    12         Palash    69                  6              7\n",
       "13    13          raman   539                  5              5\n",
       "14    14  __riddhi_213_   504                  2              7\n",
       "15    15        Nishant   299                  4              5\n",
       "16    16    Rohit Dutta   266                  3              3\n",
       "17    17    darshimalde  3169                  3              3\n",
       "18    18  Amrit Malviya   336                  2              4\n",
       "19    19         Shagun   100                  2              2\n",
       "20    20  fardinkamal62   263                  2              2\n",
       "21    21         Vatsal  3408                  2              2"
      ]
     },
     "execution_count": 189,
     "metadata": {},
     "output_type": "execute_result"
    }
   ],
   "source": [
    "out2"
   ]
  },
  {
   "cell_type": "code",
   "execution_count": 190,
   "id": "676ea959",
   "metadata": {},
   "outputs": [],
   "source": [
    "out1 = pd.DataFrame(inp1[['Name','Team Name']])"
   ]
  },
  {
   "cell_type": "code",
   "execution_count": 191,
   "id": "bd3253cb",
   "metadata": {},
   "outputs": [],
   "source": [
    "out1[['total_statements','total_reasons']] = inp2[['total_statements','total_reasons']]"
   ]
  },
  {
   "cell_type": "code",
   "execution_count": 193,
   "id": "261bbfd8",
   "metadata": {},
   "outputs": [],
   "source": [
    "out1 = out1.groupby('Team Name').agg({'total_statements':'mean','total_reasons':'mean'}).reset_index()"
   ]
  },
  {
   "cell_type": "code",
   "execution_count": 197,
   "id": "996b410a",
   "metadata": {},
   "outputs": [],
   "source": [
    "out1 = out1.round(2)"
   ]
  },
  {
   "cell_type": "code",
   "execution_count": 199,
   "id": "6f494970",
   "metadata": {},
   "outputs": [],
   "source": [
    "out1['Total Statements']=out1[['total_statements','total_reasons']].sum(axis=1)"
   ]
  },
  {
   "cell_type": "code",
   "execution_count": 200,
   "id": "da72485a",
   "metadata": {},
   "outputs": [],
   "source": [
    "out1.sort_values(by=['Total Statements'],ascending=[False],inplace=True)"
   ]
  },
  {
   "cell_type": "code",
   "execution_count": 201,
   "id": "01ccc42a",
   "metadata": {},
   "outputs": [],
   "source": [
    "del out1['Total Statements']"
   ]
  },
  {
   "cell_type": "code",
   "execution_count": 205,
   "id": "a46cc3ac",
   "metadata": {},
   "outputs": [],
   "source": [
    "out1.reset_index(inplace=True)"
   ]
  },
  {
   "cell_type": "code",
   "execution_count": 208,
   "id": "7f4e7146",
   "metadata": {},
   "outputs": [],
   "source": [
    "out1.rename(columns = {'index':'Rank','Team Name':'Thinking Teams Leaderboard','total_statements':'Average Statements','total_reasons':'Average Reasons'}, inplace = True)"
   ]
  },
  {
   "cell_type": "code",
   "execution_count": 216,
   "id": "569727f2",
   "metadata": {},
   "outputs": [],
   "source": [
    "out1.index += 1"
   ]
  },
  {
   "cell_type": "code",
   "execution_count": 217,
   "id": "952f9411",
   "metadata": {},
   "outputs": [],
   "source": [
    "out1['Rank'] = out1.index"
   ]
  },
  {
   "cell_type": "code",
   "execution_count": 218,
   "id": "05dfeb8c",
   "metadata": {},
   "outputs": [
    {
     "data": {
      "text/html": [
       "<div>\n",
       "<style scoped>\n",
       "    .dataframe tbody tr th:only-of-type {\n",
       "        vertical-align: middle;\n",
       "    }\n",
       "\n",
       "    .dataframe tbody tr th {\n",
       "        vertical-align: top;\n",
       "    }\n",
       "\n",
       "    .dataframe thead th {\n",
       "        text-align: right;\n",
       "    }\n",
       "</style>\n",
       "<table border=\"1\" class=\"dataframe\">\n",
       "  <thead>\n",
       "    <tr style=\"text-align: right;\">\n",
       "      <th></th>\n",
       "      <th>Rank</th>\n",
       "      <th>Thinking Teams Leaderboard</th>\n",
       "      <th>Average Statements</th>\n",
       "      <th>Average Reasons</th>\n",
       "    </tr>\n",
       "  </thead>\n",
       "  <tbody>\n",
       "    <tr>\n",
       "      <th>1</th>\n",
       "      <td>1</td>\n",
       "      <td>Winning Culture Lab</td>\n",
       "      <td>12.67</td>\n",
       "      <td>16.00</td>\n",
       "    </tr>\n",
       "    <tr>\n",
       "      <th>2</th>\n",
       "      <td>2</td>\n",
       "      <td>Tech Lab</td>\n",
       "      <td>9.00</td>\n",
       "      <td>10.00</td>\n",
       "    </tr>\n",
       "    <tr>\n",
       "      <th>3</th>\n",
       "      <td>3</td>\n",
       "      <td>Mentor</td>\n",
       "      <td>7.33</td>\n",
       "      <td>7.67</td>\n",
       "    </tr>\n",
       "    <tr>\n",
       "      <th>4</th>\n",
       "      <td>4</td>\n",
       "      <td>Student Unicorn Lab</td>\n",
       "      <td>7.33</td>\n",
       "      <td>6.33</td>\n",
       "    </tr>\n",
       "    <tr>\n",
       "      <th>5</th>\n",
       "      <td>5</td>\n",
       "      <td>Growpital</td>\n",
       "      <td>5.00</td>\n",
       "      <td>5.67</td>\n",
       "    </tr>\n",
       "    <tr>\n",
       "      <th>6</th>\n",
       "      <td>6</td>\n",
       "      <td>BrandTech Lab</td>\n",
       "      <td>4.50</td>\n",
       "      <td>5.50</td>\n",
       "    </tr>\n",
       "    <tr>\n",
       "      <th>7</th>\n",
       "      <td>7</td>\n",
       "      <td>Kringle</td>\n",
       "      <td>4.50</td>\n",
       "      <td>4.50</td>\n",
       "    </tr>\n",
       "    <tr>\n",
       "      <th>8</th>\n",
       "      <td>8</td>\n",
       "      <td>Human Capital Lab</td>\n",
       "      <td>2.00</td>\n",
       "      <td>4.50</td>\n",
       "    </tr>\n",
       "  </tbody>\n",
       "</table>\n",
       "</div>"
      ],
      "text/plain": [
       "   Rank Thinking Teams Leaderboard  Average Statements  Average Reasons\n",
       "1     1        Winning Culture Lab               12.67            16.00\n",
       "2     2                   Tech Lab                9.00            10.00\n",
       "3     3                     Mentor                7.33             7.67\n",
       "4     4        Student Unicorn Lab                7.33             6.33\n",
       "5     5                  Growpital                5.00             5.67\n",
       "6     6              BrandTech Lab                4.50             5.50\n",
       "7     7                    Kringle                4.50             4.50\n",
       "8     8          Human Capital Lab                2.00             4.50"
      ]
     },
     "execution_count": 218,
     "metadata": {},
     "output_type": "execute_result"
    }
   ],
   "source": [
    "out1"
   ]
  },
  {
   "cell_type": "code",
   "execution_count": 223,
   "id": "0b2eab56",
   "metadata": {},
   "outputs": [],
   "source": [
    "with pd.ExcelWriter(\"Answer_Python_Assignment.xlsx\") as writer:\n",
    "    inp1.to_excel(writer, sheet_name=\"(Input) User IDs\", index=False)\n",
    "    inp2.to_excel(writer, sheet_name=\"(Input) Rigorbuilder RAW\", index=False)\n",
    "    out1.to_excel(writer, sheet_name=\"Leaderboard TeamWise (Output)s\", index=False)\n",
    "    out2.to_excel(writer, sheet_name=\"Leaderboard Individual (Output)\", index=False)"
   ]
  },
  {
   "cell_type": "code",
   "execution_count": null,
   "id": "6e8c052c",
   "metadata": {},
   "outputs": [],
   "source": []
  }
 ],
 "metadata": {
  "kernelspec": {
   "display_name": "Python 3 (ipykernel)",
   "language": "python",
   "name": "python3"
  },
  "language_info": {
   "codemirror_mode": {
    "name": "ipython",
    "version": 3
   },
   "file_extension": ".py",
   "mimetype": "text/x-python",
   "name": "python",
   "nbconvert_exporter": "python",
   "pygments_lexer": "ipython3",
   "version": "3.10.6"
  }
 },
 "nbformat": 4,
 "nbformat_minor": 5
}
